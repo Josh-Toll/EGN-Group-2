{
 "cells": [
  {
   "cell_type": "markdown",
   "id": "f7a1cfe7-fa5c-49fc-82bc-5f9bf79f0f2b",
   "metadata": {},
   "source": [
    "Import Modules"
   ]
  },
  {
   "cell_type": "code",
   "execution_count": 142,
   "id": "cbfa64b1-accb-447b-a446-9d20ca3fe2a3",
   "metadata": {},
   "outputs": [],
   "source": [
    "import torch\n",
    "import torch.nn as nn\n",
    "import torch.nn.functional as F\n",
    "from torch.utils.data import DataLoader, Subset, TensorDataset\n",
    "from torchvision import datasets, transforms\n",
    "from torch.optim import Adam\n",
    "import matplotlib.pyplot as plt\n",
    "import numpy as np"
   ]
  },
  {
   "cell_type": "markdown",
   "id": "752bf845-9964-4ae8-b676-e2133ba7b182",
   "metadata": {},
   "source": [
    "Hyperparameters"
   ]
  },
  {
   "cell_type": "code",
   "execution_count": 144,
   "id": "daa6387e-4291-4fc2-afdc-30da6c867662",
   "metadata": {},
   "outputs": [],
   "source": [
    "dataset_path = '~/datasets'\n",
    "\n",
    "DEVICE = torch.device(\"cuda\" if torch.cuda.is_available() else \"cpu\")\n",
    "\n",
    "\n",
    "batch_size = 100\n",
    "\n",
    "x_dim  = 784\n",
    "hidden_dim = 400\n",
    "latent_dim = 200\n",
    "\n",
    "lr = 1e-3\n",
    "\n",
    "epochs = 10\n",
    "\n",
    "# Model parameters\n",
    "input_channels = 1\n",
    "latent_dim = 20\n"
   ]
  },
  {
   "cell_type": "markdown",
   "id": "c97bc09e-2642-4329-a895-ecfa699b12fe",
   "metadata": {},
   "source": [
    "Define the Encoder"
   ]
  },
  {
   "cell_type": "code",
   "execution_count": 146,
   "id": "9d48d718-2a13-435f-a520-82f2611038bf",
   "metadata": {},
   "outputs": [],
   "source": [
    "# Devine the Encoder\n",
    "class Encoder(nn.Module):\n",
    "    def __init__(self, input_channels, latent_dim):\n",
    "        super(Encoder, self).__init__()\n",
    "        self.conv1 = nn.Conv2d(input_channels, 32, kernel_size=4, stride=2, padding=1)  # Output: (32, 14, 14)\n",
    "        self.conv2 = nn.Conv2d(32, 64, kernel_size=4, stride=2, padding=1)  # Output: (64, 7, 7)\n",
    "        self.flatten = nn.Flatten()\n",
    "        self.fc_mean = nn.Linear(64 * 7 * 7, latent_dim)\n",
    "        self.fc_log_var = nn.Linear(64 * 7 * 7, latent_dim)\n",
    "\n",
    "        self.relu = nn.LeakyReLU(0.2)\n",
    "\n",
    "        self.training = True\n",
    "\n",
    "    def forward(self, x):\n",
    "        x = self.relu(self.conv1(x))\n",
    "        x = self.relu(self.conv2(x))\n",
    "        x = self.flatten(x)\n",
    "        mean = self.fc_mean(x)\n",
    "        log_var = self.fc_log_var(x)\n",
    "        return mean, log_var"
   ]
  },
  {
   "cell_type": "markdown",
   "id": "0c8e5476-d18d-4d0c-86c2-d7ab4b642752",
   "metadata": {},
   "source": [
    "Define the Decoder"
   ]
  },
  {
   "cell_type": "code",
   "execution_count": 148,
   "id": "424e33d4-faa4-4ae9-aaf9-22a0755f8960",
   "metadata": {},
   "outputs": [],
   "source": [
    "#Define the Decoder\n",
    "class Decoder(nn.Module):\n",
    "    def __init__(self, latent_dim, output_channels):\n",
    "        super(Decoder, self).__init__()\n",
    "        self.fc = nn.Linear(latent_dim, 64 * 7 * 7)\n",
    "        self.deconv1 = nn.ConvTranspose2d(64, 32, kernel_size=4, stride=2, padding=1)  # Output: (32, 14, 14)\n",
    "        self.deconv2 = nn.ConvTranspose2d(32, output_channels, kernel_size=4, stride=2, padding=1)  # Output: (1, 28, 28)\n",
    "\n",
    "    def forward(self, z):\n",
    "        x = F.relu(self.fc(z))\n",
    "        x = x.view(-1, 64, 7, 7)  # Reshape to spatial dimensions\n",
    "        x = F.relu(self.deconv1(x))\n",
    "        x = torch.sigmoid(self.deconv2(x))  # Sigmoid to constrain outputs between 0 and 1\n",
    "        return x"
   ]
  },
  {
   "cell_type": "markdown",
   "id": "f7a17fbb-2a87-4290-8243-dc753cca5cef",
   "metadata": {},
   "source": [
    "Define VAE Architecture "
   ]
  },
  {
   "cell_type": "code",
   "execution_count": 150,
   "id": "0f3fc563-8d80-4db8-901a-b19bfb1ed752",
   "metadata": {},
   "outputs": [],
   "source": [
    "class VAE(nn.Module):\n",
    "    def __init__(self, input_channels, latent_dim):\n",
    "        super(VAE, self).__init__()\n",
    "        self.encoder = Encoder(input_channels, latent_dim)\n",
    "        self.decoder = Decoder(latent_dim, input_channels)\n",
    "\n",
    "    def reparameterize(self, mean, log_var):\n",
    "        std = torch.exp(0.5 * log_var)\n",
    "        eps = torch.randn_like(std).to(DEVICE)\n",
    "        return mean + eps * std\n",
    "\n",
    "    def forward(self, x):\n",
    "        mean, log_var = self.encoder(x)\n",
    "        z = self.reparameterize(mean, log_var)\n",
    "        reconstructed = self.decoder(z)\n",
    "        return reconstructed, mean, log_var\n"
   ]
  },
  {
   "cell_type": "markdown",
   "id": "c12b028e-d0c9-4a7a-8fb4-a0df6ce6397b",
   "metadata": {},
   "source": [
    "Loss Function"
   ]
  },
  {
   "cell_type": "code",
   "execution_count": 152,
   "id": "7227ace1-23e5-4a3b-90ca-b5cef44ba577",
   "metadata": {},
   "outputs": [],
   "source": [
    "def loss_function(reconstructed, original, mean, log_var):\n",
    "    # Reconstruction loss\n",
    "    reconstruction_loss = F.binary_cross_entropy(reconstructed, original, reduction='sum')\n",
    "    # KL divergence\n",
    "    kl_divergence = -0.5 * torch.sum(1 + log_var - mean.pow(2) - log_var.exp())\n",
    "    return reconstruction_loss + kl_divergence"
   ]
  },
  {
   "cell_type": "markdown",
   "id": "8ffdb205-c230-4d5c-9a74-3d5830426c44",
   "metadata": {},
   "source": [
    "Train on MNIST"
   ]
  },
  {
   "cell_type": "code",
   "execution_count": 154,
   "id": "8a3b0dbd-7745-4eaa-b55c-cb676261d019",
   "metadata": {},
   "outputs": [
    {
     "name": "stdout",
     "output_type": "stream",
     "text": [
      "Epoch 1, Loss: 153.27779799804688\n",
      "Epoch 2, Loss: 111.11452986653646\n",
      "Epoch 3, Loss: 107.53707117513021\n",
      "Epoch 4, Loss: 105.77988727213541\n",
      "Epoch 5, Loss: 104.64051087239584\n",
      "Epoch 6, Loss: 103.86989080403646\n",
      "Epoch 7, Loss: 103.25198103841146\n",
      "Epoch 8, Loss: 102.694903125\n",
      "Epoch 9, Loss: 102.24201580403646\n",
      "Epoch 10, Loss: 101.88797638346354\n"
     ]
    }
   ],
   "source": [
    "kwargs = {'num_workers': 1, 'pin_memory': True} \n",
    "\n",
    "# Define transformations\n",
    "mnist_transform = transforms.Compose([\n",
    "    transforms.ToTensor(),\n",
    "])\n",
    "\n",
    "# Load the MNIST dataset\n",
    "train_dataset = datasets.MNIST(dataset_path, transform=mnist_transform, train=True, download=False)\n",
    "\n",
    "# Filter dataset\n",
    "#train_number = 0\n",
    "#filtered_images = []\n",
    "#filtered_labels = []\n",
    "#for image, label in train_dataset:\n",
    "    #if label == train_number:\n",
    "        #filtered_images.append(image)\n",
    "        #filtered_labels.append(label)\n",
    "#filtered_dataset = TensorDataset(torch.stack(filtered_images), torch.tensor(filtered_labels))\n",
    "\n",
    "# Create a new DataLoader\n",
    "train_loader = DataLoader(train_dataset, batch_size=batch_size, shuffle=True, drop_last=True, **kwargs)\n",
    "\n",
    "# Define model\n",
    "vae = VAE(input_channels, latent_dim).to(DEVICE)\n",
    "\n",
    "# Optimizer\n",
    "optimizer = Adam(vae.parameters(), lr=0.001)\n",
    "\n",
    "# Training loop\n",
    "vae.train()\n",
    "for epoch in range(epochs):\n",
    "    total_loss = 0\n",
    "    for batch in train_loader:\n",
    "        images, _ = batch\n",
    "        images = images.to(torch.float32)\n",
    "        images = images.to(DEVICE)\n",
    "\n",
    "        optimizer.zero_grad()\n",
    "        reconstructed, mean, log_var = vae(images)\n",
    "        loss = loss_function(reconstructed, images, mean, log_var)\n",
    "        loss.backward()\n",
    "        optimizer.step()\n",
    "        total_loss += loss.item()\n",
    "\n",
    "    print(f\"Epoch {epoch + 1}, Loss: {total_loss / len(train_dataset)}\")\n",
    "\n",
    "# Saving the model and optimizer\n",
    "torch.save({\n",
    "    'model_state_dict': vae.state_dict(),\n",
    "    'optimizer_state_dict': optimizer.state_dict()\n",
    "}, \"demo_checkpoint.pth\")"
   ]
  },
  {
   "cell_type": "markdown",
   "id": "af8e3234-d2fb-40e3-8fa4-b5bc4944ffec",
   "metadata": {},
   "source": [
    "Load and Run Test Data"
   ]
  },
  {
   "cell_type": "code",
   "execution_count": 156,
   "id": "0599e516-97cc-45ed-a10a-5f91e8244371",
   "metadata": {},
   "outputs": [
    {
     "name": "stderr",
     "output_type": "stream",
     "text": [
      "C:\\Users\\Aes\\AppData\\Local\\Temp\\ipykernel_29420\\3473606792.py:9: FutureWarning: You are using `torch.load` with `weights_only=False` (the current default value), which uses the default pickle module implicitly. It is possible to construct malicious pickle data which will execute arbitrary code during unpickling (See https://github.com/pytorch/pytorch/blob/main/SECURITY.md#untrusted-models for more details). In a future release, the default value for `weights_only` will be flipped to `True`. This limits the functions that could be executed during unpickling. Arbitrary objects will no longer be allowed to be loaded via this mode unless they are explicitly allowlisted by the user via `torch.serialization.add_safe_globals`. We recommend you start setting `weights_only=True` for any use case where you don't have full control of the loaded file. Please open an issue on GitHub for any issues related to this experimental feature.\n",
      "  checkpoint = torch.load(\"demo_checkpoint.pth\")\n"
     ]
    }
   ],
   "source": [
    "test_dataset = datasets.MNIST(dataset_path, transform=mnist_transform, train=False, download=False)\n",
    "# Filter test dataset based on digit label\n",
    "test_number = 0\n",
    "filtered_test_dataset = [(x, y) for x, y in test_dataset if y == test_number]\n",
    "test_loader  = DataLoader(dataset=filtered_test_dataset,  batch_size=batch_size, shuffle=False,  **kwargs) # Change value for dataset to generate different numbers\n",
    "\n",
    "try:\n",
    "    # Reloading the model and optimizer\n",
    "    checkpoint = torch.load(\"demo_checkpoint.pth\")\n",
    "    vae = VAE(input_channels=1, latent_dim=20)  # Reinitialize model\n",
    "    vae.load_state_dict(checkpoint['model_state_dict'])\n",
    "    vae.to(DEVICE)\n",
    "    optimizer = torch.optim.Adam(vae.parameters(), lr=0.001)  # Reinitialize optimizer\n",
    "    optimizer.load_state_dict(checkpoint['optimizer_state_dict'])\n",
    "except:\n",
    "    print(\"Failed to load model!\")\n",
    "\n",
    "vae.eval()\n",
    "test_images, _ = next(iter(test_loader))\n",
    "test_images = test_images.to(DEVICE)\n",
    "reconstructed, _, _ = vae(test_images)"
   ]
  },
  {
   "cell_type": "markdown",
   "id": "4426d941-d673-4bff-8fc2-e71d1354c7f9",
   "metadata": {},
   "source": [
    "Visualize Reconstruction"
   ]
  },
  {
   "cell_type": "code",
   "execution_count": 171,
   "id": "bfac838d-e628-4e6b-b0b5-a2ee1409c9cd",
   "metadata": {},
   "outputs": [],
   "source": [
    "def show_image(original_batch, reconstructed_batch, index):\n",
    "    # Extract the specific image and move to CPU\n",
    "    original = original_batch[index].detach().cpu().numpy().squeeze()\n",
    "    reconstructed = reconstructed_batch[index].detach().cpu().numpy().squeeze()\n",
    "    \n",
    "    # Create the plot\n",
    "    fig, axes = plt.subplots(1, 2, figsize=(6, 3))\n",
    "    \n",
    "    # Original image\n",
    "    axes[0].imshow(original, cmap='gray')\n",
    "    axes[0].set_title(\"Original\")\n",
    "    axes[0].axis('off')\n",
    "    \n",
    "    # Reconstructed image\n",
    "    axes[1].imshow(reconstructed, cmap='gray')\n",
    "    axes[1].set_title(\"Generated\")\n",
    "    axes[1].axis('off')\n",
    "    \n",
    "    # Display the plot\n",
    "    plt.tight_layout()\n",
    "    plt.show()"
   ]
  },
  {
   "cell_type": "code",
   "execution_count": 173,
   "id": "aad4d8aa-10be-4fbf-872d-9a8917657803",
   "metadata": {},
   "outputs": [
    {
     "data": {
      "image/png": "[encoded data removed]",
      "text/plain": [
       "<Figure size 600x300 with 2 Axes>"
      ]
     },
     "metadata": {},
     "output_type": "display_data"
    }
   ],
   "source": [
    "show_image(test_images, reconstructed, index=15)"
   ]
  }
 ],
 "metadata": {
  "kernelspec": {
   "display_name": "Python 3 (ipykernel)",
   "language": "python",
   "name": "python3"
  },
  "language_info": {
   "codemirror_mode": {
    "name": "ipython",
    "version": 3
   },
   "file_extension": ".py",
   "mimetype": "text/x-python",
   "name": "python",
   "nbconvert_exporter": "python",
   "pygments_lexer": "ipython3",
   "version": "3.12.7"
  }
 },
 "nbformat": 4,
 "nbformat_minor": 5
}
