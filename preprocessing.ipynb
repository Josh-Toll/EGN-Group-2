{
 "cells": [
  {
   "cell_type": "code",
   "execution_count": 136,
   "id": "93b6c01b-9ac1-40e5-ba5a-3bbc9a73117d",
   "metadata": {},
   "outputs": [],
   "source": [
    "import os\n",
    "\n",
    "from matplotlib import pyplot as plt\n",
    "from PIL import Image\n",
    "root_dir = 'example_images/'\n",
    "root_csv = 'example.csv'"
   ]
  },
  {
   "cell_type": "code",
   "execution_count": null,
   "id": "2d12b74a-e5e3-469f-a4c0-5c77c5cf5909",
   "metadata": {},
   "outputs": [],
   "source": [
    "for file in os.listdir(root_dir):\n",
    "    if file.lower().endswith(\".png\"):\n",
    "        path = os.path.join(root_dir, file)\n",
    "        img = Image.open(path).convert(\"RGBA\")\n",
    "        data = img.getdata()\n",
    "\n",
    "        # Water = RGB (173 222 255)\n",
    "        # Unlabled = RGB (247, 247, 247)\n",
    "        '''\n",
    "        To get rid of all tiles that are one color, i.e. oceans or huge lakes and giant gaps like all background color or all green\n",
    "        '''\n",
    "        # if all(pixel == data[0] for pixel in data):\n",
    "\n",
    "        '''\n",
    "        To get rid of all tiles that are the color (173 222 255) which is the color for oceans or huge lakes\n",
    "        '''\n",
    "        if all(pixel[:3] == (173, 222, 255) for pixel in data):\n",
    "            os.remove(path)\n",
    "            print(f\"Deleted {file}\")"
   ]
  },
  {
   "cell_type": "code",
   "execution_count": 68,
   "id": "b7ce06f5-230e-4a3c-b038-79657990c054",
   "metadata": {},
   "outputs": [],
   "source": [
    "import csv\n",
    "import re"
   ]
  },
  {
   "cell_type": "code",
   "execution_count": 102,
   "id": "6f67d063-f35e-4e84-a3ab-950685454a63",
   "metadata": {},
   "outputs": [],
   "source": [
    "def extract_num(file):\n",
    "    num = re.search(r\"\\d+\", file)\n",
    "    return int(num.group()) if num else 0\n",
    "\n",
    "def generate_csv(img_dir, out_csv):\n",
    "    images = sorted([f for f in os.listdir(img_dir) if f.startswith(\"image\") and f.endswith(\".png\")], key=extract_num)\n",
    "\n",
    "    with open(out_csv, mode='w', newline='') as file:\n",
    "        writer = csv.writer(file)\n",
    "        writer.writerow([\"Image Name\", \"Image Num\"])\n",
    "        for image in images:\n",
    "            number = extract_num(image)\n",
    "            writer.writerow([image, number])\n",
    "generate_csv(root_dir, root_csv)"
   ]
  },
  {
   "cell_type": "code",
   "execution_count": 54,
   "id": "920a4cd9-514b-487a-ac00-afc219855a3f",
   "metadata": {},
   "outputs": [],
   "source": [
    "import torch\n",
    "import pandas as pd\n",
    "from torch.utils.data import Dataset\n",
    "from torchvision.io import read_image\n",
    "import glob"
   ]
  },
  {
   "cell_type": "code",
   "execution_count": 78,
   "id": "260c8c4a-22fe-4853-9f09-243119ed1470",
   "metadata": {},
   "outputs": [],
   "source": [
    "# Torch Dataset - Custom Dataset Class\n",
    "class ImageDataset(Dataset):\n",
    "    def __init__(self, label_file, img_dir, transform=None, target_transform=None):\n",
    "        self.img_labels = pd.read_csv(label_file)\n",
    "        self.img_dir = img_dir\n",
    "        self.transform = transform\n",
    "        self.target_transform = target_transform\n",
    "\n",
    "    def __len__(self):\n",
    "        return len(self.img_labels)\n",
    "\n",
    "    def __getitem__(self, idx):\n",
    "        img_path = os.path.join(self.img_dir, self.img_labels.iloc[idx, 0])\n",
    "        image = read_image(img_path)\n",
    "        label = self.img_labels.iloc[idx, 1]\n",
    "        if self.transform:\n",
    "            image = self.transform(image)\n",
    "        if self.target_transform:\n",
    "            lebel = self.target_transform(label)\n",
    "        return image, label"
   ]
  },
  {
   "cell_type": "code",
   "execution_count": 134,
   "id": "863e604f-7a0f-4e31-b836-8242333812b7",
   "metadata": {},
   "outputs": [
    {
     "ename": "NameError",
     "evalue": "name 'root_csv' is not defined",
     "output_type": "error",
     "traceback": [
      "\u001b[1;31m---------------------------------------------------------------------------\u001b[0m",
      "\u001b[1;31mNameError\u001b[0m                                 Traceback (most recent call last)",
      "Cell \u001b[1;32mIn[134], line 1\u001b[0m\n\u001b[1;32m----> 1\u001b[0m image_dataset \u001b[38;5;241m=\u001b[39m ImageDataset(label_file \u001b[38;5;241m=\u001b[39m root_csv, img_dir \u001b[38;5;241m=\u001b[39m root_dir)\n\u001b[0;32m      3\u001b[0m \u001b[38;5;28;01mfor\u001b[39;00m i, image \u001b[38;5;129;01min\u001b[39;00m \u001b[38;5;28menumerate\u001b[39m(image_dataset):\n\u001b[0;32m      5\u001b[0m     \u001b[38;5;28;01mif\u001b[39;00m image[\u001b[38;5;241m1\u001b[39m] \u001b[38;5;241m==\u001b[39m \u001b[38;5;241m1\u001b[39m:\n",
      "\u001b[1;31mNameError\u001b[0m: name 'root_csv' is not defined"
     ]
    }
   ],
   "source": [
    "image_dataset = ImageDataset(label_file = root_csv, img_dir = root_dir)\n",
    "\n",
    "for i, image in enumerate(image_dataset):\n",
    "\n",
    "    if image[1] == 1:\n",
    "        print(i, image[1], image[0].shape)\n",
    "        break"
   ]
  },
  {
   "cell_type": "code",
   "execution_count": null,
   "id": "62a59761-e51e-442f-9dcb-6fa55128200f",
   "metadata": {},
   "outputs": [],
   "source": []
  }
 ],
 "metadata": {
  "kernelspec": {
   "display_name": "Python 3 (ipykernel)",
   "language": "python",
   "name": "python3"
  },
  "language_info": {
   "codemirror_mode": {
    "name": "ipython",
    "version": 3
   },
   "file_extension": ".py",
   "mimetype": "text/x-python",
   "name": "python",
   "nbconvert_exporter": "python",
   "pygments_lexer": "ipython3",
   "version": "3.12.7"
  }
 },
 "nbformat": 4,
 "nbformat_minor": 5
}
